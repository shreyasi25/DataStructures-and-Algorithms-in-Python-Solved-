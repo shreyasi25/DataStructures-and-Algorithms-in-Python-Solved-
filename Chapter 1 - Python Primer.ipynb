{
 "cells": [
  {
   "cell_type": "markdown",
   "metadata": {},
   "source": [
    "### Reinforcement"
   ]
  },
  {
   "cell_type": "markdown",
   "metadata": {},
   "source": [
    "R-1.1 Write a short Python function, is multiple(n, m), that takes two integer\n",
    "values and returns True if n is a multiple of m, that is, n = mi for some\n",
    "integer i, and False otherwise."
   ]
  },
  {
   "cell_type": "code",
   "execution_count": 1,
   "metadata": {},
   "outputs": [
    {
     "name": "stdout",
     "output_type": "stream",
     "text": [
      "True\n",
      "False\n"
     ]
    }
   ],
   "source": [
    "def isMultiple(n, m) :\n",
    "    if n % m == 0 :\n",
    "        return True\n",
    "    else :\n",
    "        return False\n",
    "    \n",
    "print(isMultiple(12, 4))\n",
    "print(isMultiple(14, 4))"
   ]
  },
  {
   "cell_type": "markdown",
   "metadata": {},
   "source": [
    "R-1.2 Write a short Python function, is even(k), that takes an integer value and\n",
    "returns True if k is even, and False otherwise. However, your function\n",
    "cannot use the multiplication, modulo, or division operators."
   ]
  },
  {
   "cell_type": "code",
   "execution_count": 2,
   "metadata": {},
   "outputs": [
    {
     "name": "stdout",
     "output_type": "stream",
     "text": [
      "True\n",
      "False\n"
     ]
    }
   ],
   "source": [
    "def isEven(n) :\n",
    "    n = str(n)[-1]\n",
    "    if n not in \"13579\" :\n",
    "        return True\n",
    "    else :\n",
    "        return False\n",
    "    \n",
    "print(isEven(10))\n",
    "print(isEven(17))"
   ]
  },
  {
   "cell_type": "markdown",
   "metadata": {},
   "source": [
    "R-1.3 Write a short Python function, minmax(data), that takes a sequence of\n",
    "one or more numbers, and returns the smallest and largest numbers, in the\n",
    "form of a tuple of length two. Do not use the built-in functions min or\n",
    "max in implementing your solution."
   ]
  },
  {
   "cell_type": "code",
   "execution_count": 3,
   "metadata": {},
   "outputs": [
    {
     "name": "stdout",
     "output_type": "stream",
     "text": [
      "(-7, 9)\n"
     ]
    }
   ],
   "source": [
    "def minMax(data) :\n",
    "    min = data[0]\n",
    "    max = data[0]\n",
    "    for i in data[1:] :\n",
    "        if i < min :\n",
    "            min = i\n",
    "        if i > max :\n",
    "            max = i\n",
    "    return (min, max)\n",
    "\n",
    "print(minMax([1, 3, -7, -2, 5, 0, 9, 6]))"
   ]
  },
  {
   "cell_type": "markdown",
   "metadata": {},
   "source": [
    "R-1.4 Write a short Python function that takes a positive integer n and returns\n",
    "the sum of the squares of all the positive integers smaller than n."
   ]
  },
  {
   "cell_type": "code",
   "execution_count": 4,
   "metadata": {},
   "outputs": [
    {
     "name": "stdout",
     "output_type": "stream",
     "text": [
      "30\n"
     ]
    }
   ],
   "source": [
    "def squares(n) :\n",
    "    sum = 0\n",
    "    for i in range(1, n) :\n",
    "        sum += i**2\n",
    "    return sum\n",
    "\n",
    "print(squares(5))"
   ]
  },
  {
   "cell_type": "markdown",
   "metadata": {},
   "source": [
    "R-1.5 Give a single command that computes the sum from Exercise R-1.4, relying\n",
    "on Python’s comprehension syntax and the built-in sum function."
   ]
  },
  {
   "cell_type": "code",
   "execution_count": 5,
   "metadata": {},
   "outputs": [
    {
     "name": "stdout",
     "output_type": "stream",
     "text": [
      "30\n"
     ]
    }
   ],
   "source": [
    "def squaresLC(n) :\n",
    "    return sum([i**2 for i in range(1, n)])\n",
    "\n",
    "print(squaresLC(5))"
   ]
  },
  {
   "cell_type": "markdown",
   "metadata": {},
   "source": [
    "R-1.6 Write a short Python function that takes a positive integer n and returns\n",
    "the sum of the squares of all the odd positive integers smaller than n."
   ]
  },
  {
   "cell_type": "code",
   "execution_count": 6,
   "metadata": {},
   "outputs": [
    {
     "name": "stdout",
     "output_type": "stream",
     "text": [
      "10\n"
     ]
    }
   ],
   "source": [
    "def squareOdds(n) :\n",
    "    sum = 0\n",
    "    for i in range(1, n) :\n",
    "        if i % 2 == 1 :\n",
    "            sum += i**2\n",
    "    return sum\n",
    "\n",
    "print(squareOdds(5))"
   ]
  },
  {
   "cell_type": "markdown",
   "metadata": {},
   "source": [
    "R-1.7 Give a single command that computes the sum from Exercise R-1.6, relying\n",
    "on Python’s comprehension syntax and the built-in sum function."
   ]
  },
  {
   "cell_type": "code",
   "execution_count": 7,
   "metadata": {},
   "outputs": [
    {
     "name": "stdout",
     "output_type": "stream",
     "text": [
      "10\n"
     ]
    }
   ],
   "source": [
    "def squareOddsLC(n) :\n",
    "    return sum([i**2 for i in range(1, n) if i % 2 == 1])\n",
    "\n",
    "print(squareOddsLC(5))"
   ]
  },
  {
   "cell_type": "markdown",
   "metadata": {},
   "source": [
    "R-1.8 Python allows negative integers to be used as indices into a sequence,\n",
    "such as a string. If string s has length n, and expression s[k] is used for index\n",
    "−n ≤ k < 0, what is the equivalent index j ≥ 0 such that s[j] references\n",
    "the same element?"
   ]
  },
  {
   "cell_type": "markdown",
   "metadata": {},
   "source": [
    "Ans. j = k + len(s)"
   ]
  },
  {
   "cell_type": "markdown",
   "metadata": {},
   "source": [
    "R-1.9 What parameters should be sent to the range constructor, to produce a\n",
    "range with values 50, 60, 70, 80?"
   ]
  },
  {
   "cell_type": "code",
   "execution_count": 8,
   "metadata": {},
   "outputs": [
    {
     "name": "stdout",
     "output_type": "stream",
     "text": [
      "[50, 60, 70, 80]\n"
     ]
    }
   ],
   "source": [
    "print(list(range(50, 90, 10)))"
   ]
  },
  {
   "cell_type": "markdown",
   "metadata": {},
   "source": [
    "R-1.10 What parameters should be sent to the range constructor, to produce a\n",
    "range with values 8, 6, 4, 2, 0, −2, −4, −6, −8?"
   ]
  },
  {
   "cell_type": "code",
   "execution_count": 9,
   "metadata": {},
   "outputs": [
    {
     "name": "stdout",
     "output_type": "stream",
     "text": [
      "[8, 6, 4, 2, 0, -2, -4, -6, -8]\n"
     ]
    }
   ],
   "source": [
    "print(list(range(8, -10, -2)))"
   ]
  },
  {
   "cell_type": "markdown",
   "metadata": {},
   "source": [
    "R-1.11 Demonstrate how to use Python’s list comprehension syntax to produce\n",
    "the list [1, 2, 4, 8, 16, 32, 64, 128, 256]."
   ]
  },
  {
   "cell_type": "code",
   "execution_count": 10,
   "metadata": {},
   "outputs": [
    {
     "name": "stdout",
     "output_type": "stream",
     "text": [
      "[1, 2, 4, 8, 16, 32, 64, 128, 256]\n"
     ]
    }
   ],
   "source": [
    "print([ 2**i for i in range(9)])"
   ]
  },
  {
   "cell_type": "markdown",
   "metadata": {},
   "source": [
    "R-1.12 Python’s random module includes a function choice(data) that returns a\n",
    "random element from a non-empty sequence. The random module includes\n",
    "a more basic function randrange, with parameterization similar to\n",
    "the built-in range function, that return a random choice from the given\n",
    "range. Using only the randrange function, implement your own version\n",
    "of the choice function."
   ]
  },
  {
   "cell_type": "code",
   "execution_count": 12,
   "metadata": {},
   "outputs": [
    {
     "name": "stdout",
     "output_type": "stream",
     "text": [
      "9\n"
     ]
    }
   ],
   "source": [
    "import random \n",
    "\n",
    "def choice(data) :\n",
    "    while True :\n",
    "        x = random.randrange(min(data), max(data) + 1)\n",
    "        if x in data :\n",
    "            break\n",
    "    return x\n",
    "\n",
    "print(choice([3, 4, 7, 5, 9]))"
   ]
  },
  {
   "cell_type": "markdown",
   "metadata": {},
   "source": [
    "### Creativity"
   ]
  },
  {
   "cell_type": "markdown",
   "metadata": {},
   "source": [
    "C-1.13 Write a pseudo-code description of a function that reverses a list of n\n",
    "integers, so that the numbers are listed in the opposite order than they\n",
    "were before, and compare this method to an equivalent Python function\n",
    "for doing the same thing."
   ]
  },
  {
   "cell_type": "markdown",
   "metadata": {},
   "source": [
    "- take a sequence input I\n",
    "- create a new sequence object L\n",
    "- loop through I (range(len - 1, 0, -1))\n",
    "-     append to L\n",
    "- print L as output"
   ]
  },
  {
   "cell_type": "code",
   "execution_count": 16,
   "metadata": {},
   "outputs": [
    {
     "name": "stdout",
     "output_type": "stream",
     "text": [
      "True\n"
     ]
    }
   ],
   "source": [
    "def rev(data) :\n",
    "    L = []\n",
    "    for i in range(1, len(data) + 1, 1) :\n",
    "        L.append(data[-i])\n",
    "    return L\n",
    "\n",
    "D = [1, 2, 3, 4, 5]\n",
    "print(rev(D) == list(reversed(D)))"
   ]
  },
  {
   "cell_type": "code",
   "execution_count": 17,
   "metadata": {},
   "outputs": [
    {
     "name": "stdout",
     "output_type": "stream",
     "text": [
      "[5, 4, 3, 2, 1]\n"
     ]
    }
   ],
   "source": [
    "# Another simple and fast way by slicing with a step size of -1\n",
    "print(D[::-1])"
   ]
  },
  {
   "cell_type": "markdown",
   "metadata": {},
   "source": [
    "C-1.14 Write a short Python function that takes a sequence of integer values and\n",
    "determines if there is a distinct pair of numbers in the sequence whose\n",
    "product is odd."
   ]
  },
  {
   "cell_type": "code",
   "execution_count": 18,
   "metadata": {},
   "outputs": [
    {
     "name": "stdout",
     "output_type": "stream",
     "text": [
      "False\n",
      "True\n"
     ]
    }
   ],
   "source": [
    "def prod(data) :\n",
    "    x = 0\n",
    "    y = 0\n",
    "    flag = False\n",
    "    for a in data :\n",
    "        if a % 2 == 1 :\n",
    "            if x == 0 :\n",
    "                x = a\n",
    "            elif a != x and y == 0 :\n",
    "                y = a\n",
    "                flag = True\n",
    "                break\n",
    "    return flag\n",
    "\n",
    "print(prod([3, 3, 2, 4, 6]))\n",
    "print(prod([1, 3, 2, 4, 6]))"
   ]
  },
  {
   "cell_type": "markdown",
   "metadata": {},
   "source": [
    "C-1.15 Write a Python function that takes a sequence of numbers and determines\n",
    "if all the numbers are different from each other (that is, they are distinct)."
   ]
  },
  {
   "cell_type": "code",
   "execution_count": 19,
   "metadata": {},
   "outputs": [
    {
     "name": "stdout",
     "output_type": "stream",
     "text": [
      "('Non-distinct sequence', [3, 3, 2, 4, 6])\n",
      "('Sequence has all distinct numbers', [1, 3, 2, 4, 6])\n"
     ]
    }
   ],
   "source": [
    "def prod(data) :\n",
    "    res = \"Sequence has all distinct numbers\"\n",
    "    d = {}\n",
    "    for a in data :\n",
    "        if a not in d :\n",
    "            d[a] = 1\n",
    "        else :\n",
    "            res = \"Non-distinct sequence\"\n",
    "            break\n",
    "    return res, data\n",
    "\n",
    "print(prod([3, 3, 2, 4, 6]))\n",
    "print(prod([1, 3, 2, 4, 6]))"
   ]
  },
  {
   "cell_type": "markdown",
   "metadata": {},
   "source": [
    "C-1.16 In our implementation of the scale function (page 25), the body of the loop\n",
    "executes the command data[j] *= factor. We have discussed that numeric\n",
    "types are immutable, and that use of the *= operator in this context causes\n",
    "the creation of a new instance (not the mutation of an existing instance).\n",
    "How is it still possible, then, that our implementation of scale changes the\n",
    "actual parameter sent by the caller?"
   ]
  },
  {
   "cell_type": "markdown",
   "metadata": {},
   "source": [
    "Ans. Numeric types are immutable but lists are mutable, so list of numeric type is mutable."
   ]
  },
  {
   "cell_type": "code",
   "execution_count": 20,
   "metadata": {},
   "outputs": [
    {
     "name": "stdout",
     "output_type": "stream",
     "text": [
      "[5, 10, 15]\n"
     ]
    }
   ],
   "source": [
    "def scale(data, factor):\n",
    "    for j in range(len(data)):\n",
    "        data[j] *= factor\n",
    "    return data\n",
    "\n",
    "print(scale([1, 2, 3],5))"
   ]
  },
  {
   "cell_type": "markdown",
   "metadata": {},
   "source": [
    "C-1.17 Had we implemented the scale function (page 25) as follows, does it work\n",
    "properly?\n",
    "\n",
    "    def scale(data, factor):\n",
    "        for val in data:\n",
    "            val = factor\n",
    "Explain why or why not."
   ]
  },
  {
   "cell_type": "markdown",
   "metadata": {},
   "source": [
    "Ans. No, we are updating val in this snippet which is a numeric object referencing the value of each list member iteratively (it's not the list itself)."
   ]
  },
  {
   "cell_type": "code",
   "execution_count": 21,
   "metadata": {},
   "outputs": [
    {
     "name": "stdout",
     "output_type": "stream",
     "text": [
      "[1, 2, 3]\n"
     ]
    }
   ],
   "source": [
    "def scale(data, factor):\n",
    "    for val in data:\n",
    "        val *= factor\n",
    "    return data\n",
    "\n",
    "print(scale([1, 2, 3],5))"
   ]
  },
  {
   "cell_type": "markdown",
   "metadata": {},
   "source": [
    "C-1.18 Demonstrate how to use Python’s list comprehension syntax to produce\n",
    "the list [0, 2, 6, 12, 20, 30, 42, 56, 72, 90]."
   ]
  },
  {
   "cell_type": "code",
   "execution_count": 22,
   "metadata": {},
   "outputs": [
    {
     "name": "stdout",
     "output_type": "stream",
     "text": [
      "[0, 2, 6, 12, 20, 30, 42, 56, 72, 90]\n"
     ]
    }
   ],
   "source": [
    "print([i*(i + 1) for i in range(10)])"
   ]
  },
  {
   "cell_type": "markdown",
   "metadata": {},
   "source": [
    "C-1.19 Demonstrate how to use Python’s list comprehension syntax to produce\n",
    "the list [ a , b , c , ..., z ], but without having to type all 26 such\n",
    "characters literally."
   ]
  },
  {
   "cell_type": "code",
   "execution_count": 23,
   "metadata": {},
   "outputs": [
    {
     "name": "stdout",
     "output_type": "stream",
     "text": [
      "['a', 'b', 'c', 'd', 'e', 'f', 'g', 'h', 'i', 'j', 'k', 'l', 'm', 'n', 'o', 'p', 'q', 'r', 's', 't', 'u', 'v', 'w', 'x', 'y', 'z']\n"
     ]
    }
   ],
   "source": [
    "print([chr(i) for i in range(97, 123)])"
   ]
  },
  {
   "cell_type": "markdown",
   "metadata": {},
   "source": [
    "C-1.20 Python’s random module includes a function shuffle(data) that accepts a\n",
    "list of elements and randomly reorders the elements so that each possible\n",
    "order occurs with equal probability. The random module includes a\n",
    "more basic function randint(a, b) that returns a uniformly random integer\n",
    "from a to b (including both endpoints). Using only the randint function,\n",
    "implement your own version of the shuffle function."
   ]
  },
  {
   "cell_type": "code",
   "execution_count": 24,
   "metadata": {},
   "outputs": [
    {
     "name": "stdout",
     "output_type": "stream",
     "text": [
      "[3, 9, 5, 4, 7]\n"
     ]
    }
   ],
   "source": [
    "def shuffle(data) :\n",
    "    newData = []\n",
    "    while len(newData) < len(data) :\n",
    "        x = random.randint(min(data), max(data) + 1)\n",
    "        if x in data and x not in newData :\n",
    "            newData.append(x)\n",
    "    return newData\n",
    "\n",
    "print(shuffle([3, 4, 7, 5, 9]))"
   ]
  },
  {
   "cell_type": "markdown",
   "metadata": {},
   "source": [
    "C-1.21 Write a Python program that repeatedly reads lines from standard input\n",
    "until an EOFError is raised, and then outputs those lines in reverse order\n",
    "(a user can indicate end of input by typing ctrl-D)."
   ]
  },
  {
   "cell_type": "code",
   "execution_count": 25,
   "metadata": {},
   "outputs": [
    {
     "name": "stdout",
     "output_type": "stream",
     "text": [
      "\n"
     ]
    }
   ],
   "source": [
    "try :\n",
    "    l = []\n",
    "    while True :\n",
    "        x = input()\n",
    "        if x != '' :\n",
    "            l.append(x)\n",
    "        else :\n",
    "            raise EOFError\n",
    "except EOFError :\n",
    "    None\n",
    "finally :\n",
    "    for i in range(1, len(l) + 1, 1) :\n",
    "        print(l[-i])"
   ]
  },
  {
   "cell_type": "markdown",
   "metadata": {},
   "source": [
    "C-1.22 Write a short Python program that takes two arrays a and b of length n\n",
    "storing int values, and returns the dot product of a and b. That is, it returns\n",
    "an array c of length n such that c[i] = a[i] · b[i], for i = 0,...,n−1."
   ]
  },
  {
   "cell_type": "code",
   "execution_count": 26,
   "metadata": {},
   "outputs": [
    {
     "name": "stdout",
     "output_type": "stream",
     "text": [
      "INVALID INPUT : Arrays should be of same length\n",
      "[4, 10, 18]\n"
     ]
    }
   ],
   "source": [
    "def dot(a, b) :\n",
    "    if len(a) == len(b) :\n",
    "        c = []\n",
    "        for i in range(len(a)) :\n",
    "            c.append(a[i]*b[i])\n",
    "        return c\n",
    "    else :\n",
    "        return \"INVALID INPUT : Arrays should be of same length\"\n",
    "\n",
    "print(dot([1, 2, 3],[4, 5, 6, 7]))\n",
    "print(dot([1, 2, 3],[4, 5, 6]))"
   ]
  },
  {
   "cell_type": "markdown",
   "metadata": {},
   "source": [
    "C-1.23 Give an example of a Python code fragment that attempts to write an element\n",
    "to a list based on an index that may be out of bounds. If that index\n",
    "is out of bounds, the program should catch the exception that results, and\n",
    "print the following error message:\n",
    "“Don’t try buffer overflow attacks in Python!”"
   ]
  },
  {
   "cell_type": "code",
   "execution_count": 27,
   "metadata": {},
   "outputs": [
    {
     "name": "stdout",
     "output_type": "stream",
     "text": [
      "Don’t try buffer overflow attacks in Python!\n"
     ]
    }
   ],
   "source": [
    "try :\n",
    "    x = [1, 2, 3]\n",
    "    x[len(x)] = 6\n",
    "except IndexError:\n",
    "    print(\"Don’t try buffer overflow attacks in Python!\")"
   ]
  },
  {
   "cell_type": "markdown",
   "metadata": {},
   "source": [
    "C-1.24 Write a short Python function that counts the number of vowels in a given\n",
    "character string."
   ]
  },
  {
   "cell_type": "code",
   "execution_count": 28,
   "metadata": {},
   "outputs": [
    {
     "name": "stdout",
     "output_type": "stream",
     "text": [
      "5\n"
     ]
    }
   ],
   "source": [
    "def vowel(s) :\n",
    "    vowels = 'aeiou'\n",
    "    count = 0\n",
    "    for i in s :\n",
    "        if i.lower() in vowels :\n",
    "            count += 1\n",
    "    return count\n",
    "\n",
    "print(vowel('abbabjangsgrie'))"
   ]
  },
  {
   "cell_type": "markdown",
   "metadata": {},
   "source": [
    "C-1.25 Write a short Python function that takes a string s, representing a sentence,\n",
    "and returns a copy of the string with all punctuation removed. For example,\n",
    "if given the string \"Let s try, Mike.\", this function would return\n",
    "\"Lets try Mike\"."
   ]
  },
  {
   "cell_type": "code",
   "execution_count": 29,
   "metadata": {},
   "outputs": [
    {
     "name": "stdout",
     "output_type": "stream",
     "text": [
      "5\n"
     ]
    }
   ],
   "source": [
    "import string\n",
    "\n",
    "def punctuations(s) :\n",
    "    return ''.join([i for i in s if i not in string.punctuation])\n",
    "\n",
    "print(vowel(\"ab,b'ab;:ja!ngsg`rie\"))"
   ]
  },
  {
   "cell_type": "markdown",
   "metadata": {},
   "source": [
    "C-1.26 Write a short program that takes as input three integers, a, b, and c, from\n",
    "the console and determines if they can be used in a correct arithmetic\n",
    "formula (in the given order), like “a+b = c,” “a = b−c,” or “a ∗ b = c.”"
   ]
  },
  {
   "cell_type": "code",
   "execution_count": 31,
   "metadata": {},
   "outputs": [
    {
     "name": "stdout",
     "output_type": "stream",
     "text": [
      "Input three integers : 1 3 5\n",
      "Invalid Input\n"
     ]
    }
   ],
   "source": [
    "a, b, c = map(int, input('Input three integers : ').split())\n",
    "if a + b == c or a == b + c \\\n",
    "    or a - b == c or a == b - c \\\n",
    "    or a * b == c or a == b * c \\\n",
    "    or a / b == c or a == b / c :\n",
    "    print(\"Valid Input\")\n",
    "else :\n",
    "    print(\"Invalid Input\")"
   ]
  },
  {
   "cell_type": "markdown",
   "metadata": {},
   "source": [
    "C-1.27 In Section 1.8, we provided three different implementations of a generator\n",
    "that computes factors of a given integer. The third of those implementations,\n",
    "from page 41, was the most efficient, but we noted that it did not\n",
    "yield the factors in increasing order. Modify the generator so that it reports\n",
    "factors in increasing order, while maintaining its general performance advantages."
   ]
  },
  {
   "cell_type": "code",
   "execution_count": 32,
   "metadata": {},
   "outputs": [
    {
     "name": "stdout",
     "output_type": "stream",
     "text": [
      "[1, 2, 4, 5, 10, 20, 25, 50, 100]\n"
     ]
    }
   ],
   "source": [
    "def factors(n):\n",
    "    k=1\n",
    "    l = []\n",
    "    \n",
    "    while k*k < n:\n",
    "        if n % k == 0:\n",
    "            yield k\n",
    "            l.append(n // k)\n",
    "        k += 1\n",
    "        \n",
    "    if k*k == n: \n",
    "        yield k\n",
    "        \n",
    "    for i in range(1, len(l) + 1) :\n",
    "        yield l[-i]\n",
    "        \n",
    "print(list(factors(100)))"
   ]
  },
  {
   "cell_type": "markdown",
   "metadata": {},
   "source": [
    "C-1.28 The p-norm of a vector v = (v1,v2,...,vn) in n-dimensional space is defined\n",
    "as $v = \\sqrt{{v_1}^p + {v_2}^p + ... + {v_n}^p}$\n",
    "For the special case of p = 2, this results in the traditional Euclidean\n",
    "norm, which represents the length of the vector. For example, the Euclidean\n",
    "norm of a two-dimensional vector with coordinates (4,3) has a\n",
    "Euclidean norm of √\n",
    "42 +32 = √16+9 = √\n",
    "25 = 5. Give an implementation\n",
    "of a function named norm such that norm(v, p) returns the p-norm\n",
    "value of v and norm(v) returns the Euclidean norm of v. You may assume\n",
    "that v is a list of numbers."
   ]
  },
  {
   "cell_type": "code",
   "execution_count": 33,
   "metadata": {},
   "outputs": [
    {
     "name": "stdout",
     "output_type": "stream",
     "text": [
      "5.0\n",
      "4.626065009182741\n"
     ]
    }
   ],
   "source": [
    "def norm(v, p = 2) :\n",
    "    n = 0\n",
    "    for i in range(len(v)) :\n",
    "        n += v[i]**p\n",
    "\n",
    "    return n ** (1. / p)\n",
    "\n",
    "print(norm([3, 4]))\n",
    "print(norm([2, 3, 4], 3))"
   ]
  },
  {
   "cell_type": "markdown",
   "metadata": {},
   "source": [
    "### Projects"
   ]
  },
  {
   "cell_type": "markdown",
   "metadata": {},
   "source": [
    "P-1.29 Write a Python program that outputs all possible strings formed by using\n",
    "the characters c , a , t , d , o , and g exactly once."
   ]
  },
  {
   "cell_type": "code",
   "execution_count": 34,
   "metadata": {},
   "outputs": [
    {
     "name": "stdout",
     "output_type": "stream",
     "text": [
      "catdog\n",
      "catdgo\n",
      "catodg\n",
      "catogd\n",
      "catgod\n",
      "catgdo\n",
      "cadtog\n",
      "cadtgo\n",
      "cadotg\n",
      "cadogt\n",
      "cadgot\n",
      "cadgto\n",
      "caodtg\n",
      "caodgt\n",
      "caotdg\n",
      "caotgd\n",
      "caogtd\n",
      "caogdt\n",
      "cagdot\n",
      "cagdto\n",
      "cagodt\n",
      "cagotd\n",
      "cagtod\n",
      "cagtdo\n",
      "ctadog\n",
      "ctadgo\n",
      "ctaodg\n",
      "ctaogd\n",
      "ctagod\n",
      "ctagdo\n",
      "ctdaog\n",
      "ctdago\n",
      "ctdoag\n",
      "ctdoga\n",
      "ctdgoa\n",
      "ctdgao\n",
      "ctodag\n",
      "ctodga\n",
      "ctoadg\n",
      "ctoagd\n",
      "ctogad\n",
      "ctogda\n",
      "ctgdoa\n",
      "ctgdao\n",
      "ctgoda\n",
      "ctgoad\n",
      "ctgaod\n",
      "ctgado\n",
      "cdtaog\n",
      "cdtago\n",
      "cdtoag\n",
      "cdtoga\n",
      "cdtgoa\n",
      "cdtgao\n",
      "cdatog\n",
      "cdatgo\n",
      "cdaotg\n",
      "cdaogt\n",
      "cdagot\n",
      "cdagto\n",
      "cdoatg\n",
      "cdoagt\n",
      "cdotag\n",
      "cdotga\n",
      "cdogta\n",
      "cdogat\n",
      "cdgaot\n",
      "cdgato\n",
      "cdgoat\n",
      "cdgota\n",
      "cdgtoa\n",
      "cdgtao\n",
      "cotdag\n",
      "cotdga\n",
      "cotadg\n",
      "cotagd\n",
      "cotgad\n",
      "cotgda\n",
      "codtag\n",
      "codtga\n",
      "codatg\n",
      "codagt\n",
      "codgat\n",
      "codgta\n",
      "coadtg\n",
      "coadgt\n",
      "coatdg\n",
      "coatgd\n",
      "coagtd\n",
      "coagdt\n",
      "cogdat\n",
      "cogdta\n",
      "cogadt\n",
      "cogatd\n",
      "cogtad\n",
      "cogtda\n",
      "cgtdoa\n",
      "cgtdao\n",
      "cgtoda\n",
      "cgtoad\n",
      "cgtaod\n",
      "cgtado\n",
      "cgdtoa\n",
      "cgdtao\n",
      "cgdota\n",
      "cgdoat\n",
      "cgdaot\n",
      "cgdato\n",
      "cgodta\n",
      "cgodat\n",
      "cgotda\n",
      "cgotad\n",
      "cgoatd\n",
      "cgoadt\n",
      "cgadot\n",
      "cgadto\n",
      "cgaodt\n",
      "cgaotd\n",
      "cgatod\n",
      "cgatdo\n",
      "actdog\n",
      "actdgo\n",
      "actodg\n",
      "actogd\n",
      "actgod\n",
      "actgdo\n",
      "acdtog\n",
      "acdtgo\n",
      "acdotg\n",
      "acdogt\n",
      "acdgot\n",
      "acdgto\n",
      "acodtg\n",
      "acodgt\n",
      "acotdg\n",
      "acotgd\n",
      "acogtd\n",
      "acogdt\n",
      "acgdot\n",
      "acgdto\n",
      "acgodt\n",
      "acgotd\n",
      "acgtod\n",
      "acgtdo\n",
      "atcdog\n",
      "atcdgo\n",
      "atcodg\n",
      "atcogd\n",
      "atcgod\n",
      "atcgdo\n",
      "atdcog\n",
      "atdcgo\n",
      "atdocg\n",
      "atdogc\n",
      "atdgoc\n",
      "atdgco\n",
      "atodcg\n",
      "atodgc\n",
      "atocdg\n",
      "atocgd\n",
      "atogcd\n",
      "atogdc\n",
      "atgdoc\n",
      "atgdco\n",
      "atgodc\n",
      "atgocd\n",
      "atgcod\n",
      "atgcdo\n",
      "adtcog\n",
      "adtcgo\n",
      "adtocg\n",
      "adtogc\n",
      "adtgoc\n",
      "adtgco\n",
      "adctog\n",
      "adctgo\n",
      "adcotg\n",
      "adcogt\n",
      "adcgot\n",
      "adcgto\n",
      "adoctg\n",
      "adocgt\n",
      "adotcg\n",
      "adotgc\n",
      "adogtc\n",
      "adogct\n",
      "adgcot\n",
      "adgcto\n",
      "adgoct\n",
      "adgotc\n",
      "adgtoc\n",
      "adgtco\n",
      "aotdcg\n",
      "aotdgc\n",
      "aotcdg\n",
      "aotcgd\n",
      "aotgcd\n",
      "aotgdc\n",
      "aodtcg\n",
      "aodtgc\n",
      "aodctg\n",
      "aodcgt\n",
      "aodgct\n",
      "aodgtc\n",
      "aocdtg\n",
      "aocdgt\n",
      "aoctdg\n",
      "aoctgd\n",
      "aocgtd\n",
      "aocgdt\n",
      "aogdct\n",
      "aogdtc\n",
      "aogcdt\n",
      "aogctd\n",
      "aogtcd\n",
      "aogtdc\n",
      "agtdoc\n",
      "agtdco\n",
      "agtodc\n",
      "agtocd\n",
      "agtcod\n",
      "agtcdo\n",
      "agdtoc\n",
      "agdtco\n",
      "agdotc\n",
      "agdoct\n",
      "agdcot\n",
      "agdcto\n",
      "agodtc\n",
      "agodct\n",
      "agotdc\n",
      "agotcd\n",
      "agoctd\n",
      "agocdt\n",
      "agcdot\n",
      "agcdto\n",
      "agcodt\n",
      "agcotd\n",
      "agctod\n",
      "agctdo\n",
      "tacdog\n",
      "tacdgo\n",
      "tacodg\n",
      "tacogd\n",
      "tacgod\n",
      "tacgdo\n",
      "tadcog\n",
      "tadcgo\n",
      "tadocg\n",
      "tadogc\n",
      "tadgoc\n",
      "tadgco\n",
      "taodcg\n",
      "taodgc\n",
      "taocdg\n",
      "taocgd\n",
      "taogcd\n",
      "taogdc\n",
      "tagdoc\n",
      "tagdco\n",
      "tagodc\n",
      "tagocd\n",
      "tagcod\n",
      "tagcdo\n",
      "tcadog\n",
      "tcadgo\n",
      "tcaodg\n",
      "tcaogd\n",
      "tcagod\n",
      "tcagdo\n",
      "tcdaog\n",
      "tcdago\n",
      "tcdoag\n",
      "tcdoga\n",
      "tcdgoa\n",
      "tcdgao\n",
      "tcodag\n",
      "tcodga\n",
      "tcoadg\n",
      "tcoagd\n",
      "tcogad\n",
      "tcogda\n",
      "tcgdoa\n",
      "tcgdao\n",
      "tcgoda\n",
      "tcgoad\n",
      "tcgaod\n",
      "tcgado\n",
      "tdcaog\n",
      "tdcago\n",
      "tdcoag\n",
      "tdcoga\n",
      "tdcgoa\n",
      "tdcgao\n",
      "tdacog\n",
      "tdacgo\n",
      "tdaocg\n",
      "tdaogc\n",
      "tdagoc\n",
      "tdagco\n",
      "tdoacg\n",
      "tdoagc\n",
      "tdocag\n",
      "tdocga\n",
      "tdogca\n",
      "tdogac\n",
      "tdgaoc\n",
      "tdgaco\n",
      "tdgoac\n",
      "tdgoca\n",
      "tdgcoa\n",
      "tdgcao\n",
      "tocdag\n",
      "tocdga\n",
      "tocadg\n",
      "tocagd\n",
      "tocgad\n",
      "tocgda\n",
      "todcag\n",
      "todcga\n",
      "todacg\n",
      "todagc\n",
      "todgac\n",
      "todgca\n",
      "toadcg\n",
      "toadgc\n",
      "toacdg\n",
      "toacgd\n",
      "toagcd\n",
      "toagdc\n",
      "togdac\n",
      "togdca\n",
      "togadc\n",
      "togacd\n",
      "togcad\n",
      "togcda\n",
      "tgcdoa\n",
      "tgcdao\n",
      "tgcoda\n",
      "tgcoad\n",
      "tgcaod\n",
      "tgcado\n",
      "tgdcoa\n",
      "tgdcao\n",
      "tgdoca\n",
      "tgdoac\n",
      "tgdaoc\n",
      "tgdaco\n",
      "tgodca\n",
      "tgodac\n",
      "tgocda\n",
      "tgocad\n",
      "tgoacd\n",
      "tgoadc\n",
      "tgadoc\n",
      "tgadco\n",
      "tgaodc\n",
      "tgaocd\n",
      "tgacod\n",
      "tgacdo\n",
      "datcog\n",
      "datcgo\n",
      "datocg\n",
      "datogc\n",
      "datgoc\n",
      "datgco\n",
      "dactog\n",
      "dactgo\n",
      "dacotg\n",
      "dacogt\n",
      "dacgot\n",
      "dacgto\n",
      "daoctg\n",
      "daocgt\n",
      "daotcg\n",
      "daotgc\n",
      "daogtc\n",
      "daogct\n",
      "dagcot\n",
      "dagcto\n",
      "dagoct\n",
      "dagotc\n",
      "dagtoc\n",
      "dagtco\n",
      "dtacog\n",
      "dtacgo\n",
      "dtaocg\n",
      "dtaogc\n",
      "dtagoc\n",
      "dtagco\n",
      "dtcaog\n",
      "dtcago\n",
      "dtcoag\n",
      "dtcoga\n",
      "dtcgoa\n",
      "dtcgao\n",
      "dtocag\n",
      "dtocga\n",
      "dtoacg\n",
      "dtoagc\n",
      "dtogac\n",
      "dtogca\n",
      "dtgcoa\n",
      "dtgcao\n",
      "dtgoca\n",
      "dtgoac\n",
      "dtgaoc\n",
      "dtgaco\n",
      "dctaog\n",
      "dctago\n",
      "dctoag\n",
      "dctoga\n",
      "dctgoa\n",
      "dctgao\n",
      "dcatog\n",
      "dcatgo\n",
      "dcaotg\n",
      "dcaogt\n",
      "dcagot\n",
      "dcagto\n",
      "dcoatg\n",
      "dcoagt\n",
      "dcotag\n",
      "dcotga\n",
      "dcogta\n",
      "dcogat\n",
      "dcgaot\n",
      "dcgato\n",
      "dcgoat\n",
      "dcgota\n",
      "dcgtoa\n",
      "dcgtao\n",
      "dotcag\n",
      "dotcga\n",
      "dotacg\n",
      "dotagc\n",
      "dotgac\n",
      "dotgca\n",
      "doctag\n",
      "doctga\n",
      "docatg\n",
      "docagt\n",
      "docgat\n",
      "docgta\n",
      "doactg\n",
      "doacgt\n",
      "doatcg\n",
      "doatgc\n",
      "doagtc\n",
      "doagct\n",
      "dogcat\n",
      "dogcta\n",
      "dogact\n",
      "dogatc\n",
      "dogtac\n",
      "dogtca\n",
      "dgtcoa\n",
      "dgtcao\n",
      "dgtoca\n",
      "dgtoac\n",
      "dgtaoc\n",
      "dgtaco\n",
      "dgctoa\n",
      "dgctao\n",
      "dgcota\n",
      "dgcoat\n",
      "dgcaot\n",
      "dgcato\n",
      "dgocta\n",
      "dgocat\n",
      "dgotca\n",
      "dgotac\n",
      "dgoatc\n",
      "dgoact\n",
      "dgacot\n",
      "dgacto\n",
      "dgaoct\n",
      "dgaotc\n",
      "dgatoc\n",
      "dgatco\n",
      "oatdcg\n",
      "oatdgc\n",
      "oatcdg\n",
      "oatcgd\n",
      "oatgcd\n",
      "oatgdc\n",
      "oadtcg\n",
      "oadtgc\n",
      "oadctg\n",
      "oadcgt\n",
      "oadgct\n",
      "oadgtc\n",
      "oacdtg\n",
      "oacdgt\n",
      "oactdg\n",
      "oactgd\n",
      "oacgtd\n",
      "oacgdt\n",
      "oagdct\n",
      "oagdtc\n",
      "oagcdt\n",
      "oagctd\n",
      "oagtcd\n",
      "oagtdc\n",
      "otadcg\n",
      "otadgc\n",
      "otacdg\n",
      "otacgd\n",
      "otagcd\n",
      "otagdc\n",
      "otdacg\n",
      "otdagc\n",
      "otdcag\n",
      "otdcga\n",
      "otdgca\n",
      "otdgac\n",
      "otcdag\n",
      "otcdga\n",
      "otcadg\n",
      "otcagd\n",
      "otcgad\n",
      "otcgda\n",
      "otgdca\n",
      "otgdac\n",
      "otgcda\n",
      "otgcad\n",
      "otgacd\n",
      "otgadc\n",
      "odtacg\n",
      "odtagc\n",
      "odtcag\n",
      "odtcga\n",
      "odtgca\n",
      "odtgac\n",
      "odatcg\n",
      "odatgc\n",
      "odactg\n",
      "odacgt\n",
      "odagct\n",
      "odagtc\n",
      "odcatg\n",
      "odcagt\n",
      "odctag\n",
      "odctga\n",
      "odcgta\n",
      "odcgat\n",
      "odgact\n",
      "odgatc\n",
      "odgcat\n",
      "odgcta\n",
      "odgtca\n",
      "odgtac\n",
      "octdag\n",
      "octdga\n",
      "octadg\n",
      "octagd\n",
      "octgad\n",
      "octgda\n",
      "ocdtag\n",
      "ocdtga\n",
      "ocdatg\n",
      "ocdagt\n",
      "ocdgat\n",
      "ocdgta\n",
      "ocadtg\n",
      "ocadgt\n",
      "ocatdg\n",
      "ocatgd\n",
      "ocagtd\n",
      "ocagdt\n",
      "ocgdat\n",
      "ocgdta\n",
      "ocgadt\n",
      "ocgatd\n",
      "ocgtad\n",
      "ocgtda\n",
      "ogtdca\n",
      "ogtdac\n",
      "ogtcda\n",
      "ogtcad\n",
      "ogtacd\n",
      "ogtadc\n",
      "ogdtca\n",
      "ogdtac\n",
      "ogdcta\n",
      "ogdcat\n",
      "ogdact\n",
      "ogdatc\n",
      "ogcdta\n",
      "ogcdat\n",
      "ogctda\n",
      "ogctad\n",
      "ogcatd\n",
      "ogcadt\n",
      "ogadct\n",
      "ogadtc\n",
      "ogacdt\n",
      "ogactd\n",
      "ogatcd\n",
      "ogatdc\n",
      "gatdoc\n",
      "gatdco\n",
      "gatodc\n",
      "gatocd\n",
      "gatcod\n",
      "gatcdo\n",
      "gadtoc\n",
      "gadtco\n",
      "gadotc\n",
      "gadoct\n",
      "gadcot\n",
      "gadcto\n",
      "gaodtc\n",
      "gaodct\n",
      "gaotdc\n",
      "gaotcd\n",
      "gaoctd\n",
      "gaocdt\n",
      "gacdot\n",
      "gacdto\n",
      "gacodt\n",
      "gacotd\n",
      "gactod\n",
      "gactdo\n",
      "gtadoc\n",
      "gtadco\n",
      "gtaodc\n",
      "gtaocd\n",
      "gtacod\n",
      "gtacdo\n",
      "gtdaoc\n",
      "gtdaco\n",
      "gtdoac\n",
      "gtdoca\n",
      "gtdcoa\n",
      "gtdcao\n",
      "gtodac\n",
      "gtodca\n",
      "gtoadc\n",
      "gtoacd\n",
      "gtocad\n",
      "gtocda\n",
      "gtcdoa\n",
      "gtcdao\n",
      "gtcoda\n",
      "gtcoad\n",
      "gtcaod\n",
      "gtcado\n",
      "gdtaoc\n",
      "gdtaco\n",
      "gdtoac\n",
      "gdtoca\n",
      "gdtcoa\n",
      "gdtcao\n",
      "gdatoc\n",
      "gdatco\n",
      "gdaotc\n",
      "gdaoct\n",
      "gdacot\n",
      "gdacto\n",
      "gdoatc\n",
      "gdoact\n",
      "gdotac\n",
      "gdotca\n",
      "gdocta\n",
      "gdocat\n",
      "gdcaot\n",
      "gdcato\n",
      "gdcoat\n",
      "gdcota\n",
      "gdctoa\n",
      "gdctao\n",
      "gotdac\n",
      "gotdca\n",
      "gotadc\n",
      "gotacd\n",
      "gotcad\n",
      "gotcda\n",
      "godtac\n",
      "godtca\n",
      "godatc\n",
      "godact\n",
      "godcat\n",
      "godcta\n",
      "goadtc\n",
      "goadct\n",
      "goatdc\n",
      "goatcd\n",
      "goactd\n",
      "goacdt\n",
      "gocdat\n",
      "gocdta\n",
      "gocadt\n",
      "gocatd\n",
      "goctad\n",
      "goctda\n",
      "gctdoa\n",
      "gctdao\n",
      "gctoda\n",
      "gctoad\n",
      "gctaod\n",
      "gctado\n",
      "gcdtoa\n",
      "gcdtao\n",
      "gcdota\n",
      "gcdoat\n",
      "gcdaot\n",
      "gcdato\n",
      "gcodta\n",
      "gcodat\n",
      "gcotda\n",
      "gcotad\n",
      "gcoatd\n",
      "gcoadt\n",
      "gcadot\n",
      "gcadto\n",
      "gcaodt\n",
      "gcaotd\n",
      "gcatod\n",
      "gcatdo\n"
     ]
    }
   ],
   "source": [
    "def permute(a, l, r):\n",
    "    if l==r:\n",
    "        print(''.join(a))\n",
    "    else:\n",
    "        for i in range(l,r+1):\n",
    "            a[l], a[i] = a[i], a[l]\n",
    "            permute(a, l+1, r)\n",
    "            a[l], a[i] = a[i], a[l]\n",
    " \n",
    "string = \"catdog\"\n",
    "n = len(string)\n",
    "a = list(string)\n",
    "permute(a, 0, n-1)"
   ]
  },
  {
   "cell_type": "markdown",
   "metadata": {},
   "source": [
    "P-1.30 Write a Python program that can take a positive integer greater than 2 as\n",
    "input and write out the number of times one must repeatedly divide this\n",
    "number by 2 before getting a value less than 2."
   ]
  },
  {
   "cell_type": "code",
   "execution_count": 36,
   "metadata": {},
   "outputs": [
    {
     "name": "stdout",
     "output_type": "stream",
     "text": [
      "A positive integer greater than 2 :56\n",
      "5\n"
     ]
    }
   ],
   "source": [
    "n = int(input('A positive integer greater than 2 :'))\n",
    "if n > 2 :\n",
    "    count = 0\n",
    "    while n > 2 :\n",
    "        n = n // 2\n",
    "        count += 1\n",
    "    print(count)\n",
    "else :\n",
    "    print('INVALID INPUT')\n"
   ]
  },
  {
   "cell_type": "markdown",
   "metadata": {},
   "source": [
    "P-1.31 Write a Python program that can “make change.” Your program should\n",
    "take two numbers as input, one that is a monetary amount charged and the\n",
    "other that is a monetary amount given. It should then return the number\n",
    "of each kind of bill and coin to give back as change for the difference\n",
    "between the amount given and the amount charged. The values assigned\n",
    "to the bills and coins can be based on the monetary system of any current\n",
    "or former government. Try to design your program so that it returns as\n",
    "few bills and coins as possible."
   ]
  },
  {
   "cell_type": "code",
   "execution_count": 38,
   "metadata": {},
   "outputs": [
    {
     "name": "stdout",
     "output_type": "stream",
     "text": [
      "Two numbers as input, one that is a monetary amount charged and the other that is a monetary amount given : 390 567\n",
      "{100: 1, 50: 1, 20: 1, 5: 1, 2: 1}\n"
     ]
    }
   ],
   "source": [
    "c, a = map(float, input('Two numbers as input, one that is a monetary amount charged and the other that is a monetary amount given : ').split())\n",
    "\n",
    "bills = [2000, 500, 100, 50, 20, 10, 5, 2, 1, 0.5, 0.25]\n",
    "\n",
    "r = a - c\n",
    "d = {}\n",
    "if r > 0 :\n",
    "    for i in bills :\n",
    "        if r >= i :\n",
    "            d[i] = 1\n",
    "            r -= i\n",
    "            while r >= i :\n",
    "                d[i] += 1\n",
    "                r -= i\n",
    "    print(d)\n",
    "else :\n",
    "    print(\"NOT ENOUGH MONEY\")\n"
   ]
  },
  {
   "cell_type": "markdown",
   "metadata": {},
   "source": [
    "P-1.32 Write a Python program that can simulate a simple calculator, using the\n",
    "console as the exclusive input and output device. That is, each input to the\n",
    "calculator, be it a number, like 12.34 or 1034, or an operator, like + or =,\n",
    "can be done on a separate line. After each such input, you should output\n",
    "to the Python console what would be displayed on your calculator."
   ]
  },
  {
   "cell_type": "code",
   "execution_count": 41,
   "metadata": {},
   "outputs": [
    {
     "name": "stdout",
     "output_type": "stream",
     "text": [
      "4\n",
      "4\n",
      "\n",
      "\n",
      "C\n",
      "Execution Ends\n"
     ]
    }
   ],
   "source": [
    "cache = ''\n",
    "count = 0\n",
    "try :\n",
    "    while True :\n",
    "        x = input()\n",
    "        if x == '' :\n",
    "            cache = ''\n",
    "            print(cache)\n",
    "            continue\n",
    "        elif x == \"C\" :\n",
    "            raise KeyboardInterrupt()\n",
    "        elif x == \"=\":\n",
    "            if ord(cache[-1]) in list(range(48,58)) :\n",
    "                print(eval(cache))\n",
    "            else :\n",
    "                print(cache[:-2])\n",
    "        else :\n",
    "            count += 1\n",
    "            if cache == '' :\n",
    "                cache = cache + str(x)\n",
    "            else :\n",
    "                cache = cache + \" \" + str(x)\n",
    "            if count == 3 :\n",
    "                c = eval(cache)\n",
    "                cache = str(c)\n",
    "                print(c)\n",
    "                count = 1\n",
    "            else :\n",
    "                print(cache)\n",
    "except KeyboardInterrupt:\n",
    "    print(\"Execution Ends\")"
   ]
  },
  {
   "cell_type": "markdown",
   "metadata": {},
   "source": [
    "P-1.33 Write a Python program that simulates a handheld calculator. Your program\n",
    "should process input from the Python console representing buttons\n",
    "that are “pushed,” and then output the contents of the screen after each operation\n",
    "is performed. Minimally, your calculator should be able to process\n",
    "the basic arithmetic operations and a reset/clear operation."
   ]
  },
  {
   "cell_type": "code",
   "execution_count": 43,
   "metadata": {},
   "outputs": [
    {
     "name": "stdout",
     "output_type": "stream",
     "text": [
      "5\n",
      "5\n",
      "c\n",
      "Execution Ends\n"
     ]
    }
   ],
   "source": [
    "cache = ''\n",
    "count = 0\n",
    "try :\n",
    "    while True :\n",
    "        x = input()\n",
    "        if x == '' :\n",
    "            cache = ''\n",
    "            print(cache)\n",
    "            continue\n",
    "        elif x.lower() == \"c\" :\n",
    "            raise KeyboardInterrupt()\n",
    "        elif x == \"=\":\n",
    "            if ord(cache[-1]) in list(range(48,58)) :\n",
    "                print(eval(cache))\n",
    "            else :\n",
    "                print(cache[:-2])\n",
    "        else :\n",
    "            count += 1\n",
    "            if cache == '' :\n",
    "                cache = cache + str(x)\n",
    "            else :\n",
    "                cache = cache + \" \" + str(x)\n",
    "            if count == 3 :\n",
    "                c = eval(cache)\n",
    "                cache = str(c)\n",
    "                print(c)\n",
    "                count = 1\n",
    "            else :\n",
    "                print(cache)\n",
    "except KeyboardInterrupt:\n",
    "    print(\"Execution Ends\")"
   ]
  },
  {
   "cell_type": "markdown",
   "metadata": {},
   "source": [
    "P-1.34 A common punishment for school children is to write out a sentence multiple\n",
    "times. Write a Python stand-alone program that will write out the\n",
    "following sentence one hundred times: “I will never spam my friends\n",
    "again.” Your program should number each of the sentences and it should\n",
    "make eight different random-looking typos."
   ]
  },
  {
   "cell_type": "code",
   "execution_count": 44,
   "metadata": {},
   "outputs": [
    {
     "name": "stdout",
     "output_type": "stream",
     "text": [
      "1 I will never spam my friends again.\n",
      "2 I will never spam my friends again.\n",
      "3 I will never spam my friends again.\n",
      "4 I will never spam my friends again.\n",
      "5 I will never spam my friends again.\n",
      "6 I will never 8pam my friends again. ----- 1\n",
      "7 I will never spam my friends again.\n",
      "8 I will never spam my friends again.\n",
      "9 I wiBl never spam my friends again. ----- 2\n",
      "10 I will never spam my friends again.\n",
      "11 I will never spam my friends again.\n",
      "12 I will never spam my friends again.\n",
      "13 I will never spam my friends again.\n",
      "14 I will never spam my friends again.\n",
      "15 I will never spam my friends again.\n",
      "16 I will never spam my friends again.\n",
      "17 I will never spam my friends again.\n",
      "18 I will never spam my friends again.\n",
      "19 I will never spam my friends again.\n",
      "20 I will never spam my friends again.\n",
      "21 I will never spam my friends again.\n",
      "22 I will neRer spam my friends again. ----- 3\n",
      "23 I will never spam my friends again.\n",
      "24 I will never spam my friends again.\n",
      "25 I will never spam my friends again.\n",
      "26 I will never spam my friends again.\n",
      "27 I will never spam my friends again.\n",
      "28 I will never spam my friends again.\n",
      "29 I will never spam my friends again.\n",
      "30 I will never spam my friends again.\n",
      "31 I will never spam my friends again.\n",
      "32 I will never spam my friends again.\n",
      "33 I will never spam my friends again.\n",
      "34 I will never spam my friends again.\n",
      "35 I will never spam my friends again.\n",
      "36 I will never spam my friends again.\n",
      "37 I will never spam my friends again.\n",
      "38 I will never spam my friends again.\n",
      "39 I will never spam my friends again.\n",
      "40 I will never spam my friends again.\n",
      "41 I will never spam my friends again.\n",
      "42 I will never spam my friends again.\n",
      "43 I will never spam my friends again.\n",
      "44 I will never spam my friends again.\n",
      "45 I will never spam my friends again.\n",
      "46 I will never spam my friends again.\n",
      "47 I will never spam my friends again.\n",
      "48 I will never spam my friends again.\n",
      "49 I will never spam my friends again.\n",
      "50 I will never spam my friends again.\n",
      "51 I will never spam my friends again.\n",
      "52 I will never spam my friends again.\n",
      "53 I will never spam my friends again.\n",
      "54 I will never spam my friends again.\n",
      "55 I will never spam my friends again.\n",
      "56 I will never spam my friends again.\n",
      "57 I will never spam my friends again.\n",
      "58 I will never spam my friends again.\n",
      "59 I will never spam my friends again.\n",
      "60 I will never spam my friends again.\n",
      "61 I will never spam my friends again.\n",
      "62 I will never spam my friends again.\n",
      "63 I will never spam my friends again.\n",
      "64 I will never spam my friends again.\n",
      "65 I will never spam my friends again.\n",
      "66 I will never spam my friends again.\n",
      "67 I will never spam my friends again.\n",
      "68 I will never spam my friends again.\n",
      "69 I will never spam my friends again.\n",
      "70 I will never slam my friends again. ----- 4\n",
      "71 I will never spam my friends again.\n",
      "72 I will never spam my friends again.\n",
      "73 I will never spam my friends again.\n",
      "74 I will never spam my friends again.\n",
      "75 I will never spam my friends again.\n",
      "76 I will never spam my friends again.\n",
      "77 I will never spam my friends again.\n",
      "78 I will never spaC my friends again. ----- 5\n",
      "79 I will never spam myVfriends again. ----- 6\n",
      "80 I will never spam my friends again.\n",
      "81 I will never spam my friends again.\n",
      "82 I will never spam my friends again.\n",
      "83 I will never spam my friends again.\n",
      "84 I will never spam my friends again.\n",
      "85 I will never spam my friends again.\n",
      "86 I will never spam my friends again.\n",
      "87 I will never spam my friends again.\n",
      "88 I will never spam my friends again.\n",
      "89 I will never spam my friends again.\n",
      "90 I will never spam my friends again.\n",
      "91 I will never spam>my friends again. ----- 7\n",
      "92 I will never spam my friends again.\n",
      "93 I will never spam my friends again.\n",
      "94 I will never spam my friends again.\n",
      "95 I will never spam my friends again.\n",
      "96 I will never spamemy friends again. ----- 8\n",
      "97 I will never spam my friends again.\n",
      "98 I will never spam my friends again.\n",
      "99 I will never spam my friends again.\n",
      "100 I will never spam my friends again.\n"
     ]
    }
   ],
   "source": [
    "count = 0\n",
    "s = \"I will never spam my friends again.\"\n",
    "for i in range(1, 101) :\n",
    "    r = random.random()\n",
    "    if count < 8 and (r > 0.9 or 100 - i <= 8 - count) :\n",
    "        count += 1\n",
    "        x = random.randint(0, len(s) - 1)\n",
    "        ns = s[:x] + chr(random.randint(33, 126)) + s[x + 1:]\n",
    "        print(i, ns, \"-----\", count)\n",
    "    else :\n",
    "        print(i, s)"
   ]
  },
  {
   "cell_type": "markdown",
   "metadata": {},
   "source": [
    "P-1.35 The birthday paradox says that the probability that two people in a room\n",
    "will have the same birthday is more than half, provided n, the number of\n",
    "people in the room, is more than 23. This property is not really a paradox,\n",
    "but many people find it surprising. Design a Python program that can test\n",
    "this paradox by a series of experiments on randomly generated birthdays,\n",
    "which test this paradox for n = 5,10,15,20,...,100."
   ]
  },
  {
   "cell_type": "code",
   "execution_count": 48,
   "metadata": {},
   "outputs": [
    {
     "name": "stdout",
     "output_type": "stream",
     "text": [
      "The number of people in the room : 23\n",
      "50.76500000000001\n"
     ]
    }
   ],
   "source": [
    "n = int(input('The number of people in the room : '))\n",
    "# n = 23\n",
    "m = 100000\n",
    "z = 0\n",
    "for i in range(m) :\n",
    "    d = {}\n",
    "    for i in range(n) :\n",
    "        x = random.randint(1,365)\n",
    "        if x not in d  :\n",
    "            d[x] = 1\n",
    "        else :\n",
    "            z += 1\n",
    "            break\n",
    "print(z/m*100)"
   ]
  },
  {
   "cell_type": "markdown",
   "metadata": {},
   "source": [
    "P-1.36 Write a Python program that inputs a list of words, separated by whitespace,\n",
    "and outputs how many times each word appears in the list. You\n",
    "need not worry about efficiency at this point, however, as this topic is\n",
    "something that will be addressed later in this book."
   ]
  },
  {
   "cell_type": "code",
   "execution_count": 47,
   "metadata": {},
   "outputs": [
    {
     "name": "stdout",
     "output_type": "stream",
     "text": [
      "Inputs a list of words, separated by whitespace : a girl and a dog\n",
      "{'a': 2, 'girl': 1, 'and': 1, 'dog': 1}\n"
     ]
    }
   ],
   "source": [
    "l = input('Inputs a list of words, separated by whitespace : ')\n",
    "# l = \"A girl is strong and a girl is worthy\"\n",
    "w = l.split()\n",
    "d = {}\n",
    "for i in w :\n",
    "    if i not in d  :\n",
    "        d[i] = 1\n",
    "    else :\n",
    "        d[i] += 1 \n",
    "print(d)"
   ]
  }
 ],
 "metadata": {
  "kernelspec": {
   "display_name": "Python 3",
   "language": "python",
   "name": "python3"
  },
  "language_info": {
   "codemirror_mode": {
    "name": "ipython",
    "version": 3
   },
   "file_extension": ".py",
   "mimetype": "text/x-python",
   "name": "python",
   "nbconvert_exporter": "python",
   "pygments_lexer": "ipython3",
   "version": "3.6.4"
  }
 },
 "nbformat": 4,
 "nbformat_minor": 2
}
